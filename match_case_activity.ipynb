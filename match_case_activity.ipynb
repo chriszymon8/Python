{
 "cells": [
  {
   "cell_type": "code",
   "execution_count": null,
   "metadata": {},
   "outputs": [],
   "source": []
  },
  {
   "cell_type": "markdown",
   "metadata": {},
   "source": [
    "# <p style=\"text-align:center;\">Computer Programming 1</p>\n",
    "## <p style=\"text-align:center;\">**Activity 2:** Match-Case in Python</p>\n",
    "\n",
    "\n",
    "Submitted by: Chris Zymon P. Biado\n",
    "\n",
    "Student ID: A24-38460\n",
    "\n",
    "Section: M009\n",
    "\n",
    "Date of Submission: September 6 2024\n",
    "\n",
    "Submitted to: `James Grimaldo` \n",
    "***"
   ]
  },
  {
   "cell_type": "markdown",
   "metadata": {},
   "source": [
    "**Scenario 1:** You are designing a grading system for students. If a student's score is 1, 2, or 3, they are graded as \"Low\".\n",
    "\n",
    "Task: Use a match-case statement to print \"Low\" for scores 1, 2, or 3, and \"Other\" for anything else."
   ]
  },
  {
   "cell_type": "code",
   "execution_count": 32,
   "metadata": {},
   "outputs": [
    {
     "name": "stdout",
     "output_type": "stream",
     "text": [
      "Low\n"
     ]
    }
   ],
   "source": [
    "low_score = 2\n",
    "\n",
    "match low_score:\n",
    "    case 1 | 2 | 3:\n",
    "        print(\"Low\")\n",
    "    case _:\n",
    "        print(\"Other\")"
   ]
  },
  {
   "cell_type": "markdown",
   "metadata": {},
   "source": [
    "**Scenario 2:** You are categorizing vehicles. Vehicles with 4, 5, or 6 wheels are considered regular vehicles.\n",
    " \n",
    "Task: Print \"Regular vehicle\" for wheel counts of 4, 5, or 6, and \"Special vehicle\" for anything else.\n"
   ]
  },
  {
   "cell_type": "code",
   "execution_count": 31,
   "metadata": {},
   "outputs": [
    {
     "name": "stdout",
     "output_type": "stream",
     "text": [
      "Special vehicle\n"
     ]
    }
   ],
   "source": [
    "vehicle = 2\n",
    "\n",
    "match vehicle:\n",
    "    case 4 | 5 | 6:\n",
    "        print(\"Regular vehicle\")\n",
    "    case _:\n",
    "        print(\"Special vehicle\")\n"
   ]
  },
  {
   "cell_type": "markdown",
   "metadata": {},
   "source": [
    "**Scenario 3:** In a spelling quiz, you need to identify whether a letter is a vowel.\n",
    "\n",
    "Task: Print \"Vowel\" if the letter is 'a', 'e', 'i', 'o', or 'u'. Print \"Consonant\" for any other letter."
   ]
  },
  {
   "cell_type": "code",
   "execution_count": 29,
   "metadata": {},
   "outputs": [
    {
     "name": "stdout",
     "output_type": "stream",
     "text": [
      "Constant\n"
     ]
    }
   ],
   "source": [
    "vowel = \"hello\"\n",
    "\n",
    "match vowel:\n",
    "    case 'a' | 'e' | 'i' | 'o' | 'u':\n",
    "        print(\"Vowel\")\n",
    "    case _:\n",
    "        print(\"Constant\")"
   ]
  },
  {
   "cell_type": "markdown",
   "metadata": {},
   "source": [
    "**Scenario 4:** In a calendar app, you need to differentiate between weekdays and weekends.\n",
    "\n",
    "Task: Print \"Weekend\" for Saturday or Sunday, and \"Weekday\" for any other day."
   ]
  },
  {
   "cell_type": "code",
   "execution_count": 28,
   "metadata": {},
   "outputs": [
    {
     "name": "stdout",
     "output_type": "stream",
     "text": [
      "Weekday\n"
     ]
    }
   ],
   "source": [
    "day = \"Monday\"\n",
    "\n",
    "match day:\n",
    "    case \"Monday\" | \"Tuesday\" | \"Wednesday\" | \"Thursday\" | \"Friday\":\n",
    "        print(\"Weekday\")\n",
    "    case \"Saturday\" | \"Sunday\":\n",
    "        print(\"Weekends\")"
   ]
  },
  {
   "cell_type": "markdown",
   "metadata": {},
   "source": [
    "**Scenario 5:** You are checking if a number is divisible by either 2 or 5.\n",
    "\n",
    "Task: Use a match-case statement to print \"Divisible by 2 or 5\" for numbers divisible by 2 or 5, and \"Not divisible\" for others."
   ]
  },
  {
   "cell_type": "code",
   "execution_count": 27,
   "metadata": {},
   "outputs": [
    {
     "name": "stdout",
     "output_type": "stream",
     "text": [
      "Not divisible\n"
     ]
    }
   ],
   "source": [
    "num = 17\n",
    "\n",
    "match (num % 2 == 0, num % 5 == 0):\n",
    "    case (True, _) | (_, True):\n",
    "        print(\"Divisible by 2 or 5\")\n",
    "    case _:\n",
    "        print(\"Not divisible\")"
   ]
  },
  {
   "cell_type": "markdown",
   "metadata": {},
   "source": [
    "**Scenario 6:** In a food delivery app, you are checking if an order contains certain fruits.\n",
    "\n",
    "Task: Print \"Fruit combo: Apple & Banana\" if the list contains exactly ['apple', 'banana'], otherwise print \"Different combo\".\n"
   ]
  },
  {
   "cell_type": "code",
   "execution_count": 2,
   "metadata": {},
   "outputs": [
    {
     "name": "stdout",
     "output_type": "stream",
     "text": [
      "Fruit combo: Apple & Banana\n"
     ]
    }
   ],
   "source": [
    "fruits = [\"Apple\", \"Banana\"]\n",
    "\n",
    "match  fruits:\n",
    "    case [\"Apple\", \"Banana\"]:\n",
    "        print(\"Fruit combo: Apple & Banana\")\n",
    "    case _:\n",
    "        print(\"Different combo\")"
   ]
  },
  {
   "cell_type": "markdown",
   "metadata": {},
   "source": [
    "**Scenario: 7** You are running a grocery system that matches certain fruit combinations.\n",
    "\n",
    "Task: If the fruits list contains ['orange', 'grape'], print \"Found oranges and grapes\". Otherwise, print \"Unknown fruits\".\n"
   ]
  },
  {
   "cell_type": "code",
   "execution_count": 25,
   "metadata": {},
   "outputs": [
    {
     "name": "stdout",
     "output_type": "stream",
     "text": [
      "Found oranges and  grapes\n"
     ]
    }
   ],
   "source": [
    "fruits = ['orange', 'grape']\n",
    "\n",
    "match fruits:\n",
    "    case ['orange', 'grape']:\n",
    "        print(\"Found oranges and  grapes\")\n",
    "    case  _:\n",
    "        print(\"Unknown fruits\")"
   ]
  },
  {
   "cell_type": "markdown",
   "metadata": {},
   "source": [
    "**Scenario 8:** You are creating a pet adoption system that categorizes pets into groups.\n",
    "\n",
    "Task: If the animals list contains ['cat', 'dog', 'bird'], print \"Common pets\". Otherwise, print \"Other pets\"."
   ]
  },
  {
   "cell_type": "code",
   "execution_count": 3,
   "metadata": {},
   "outputs": [
    {
     "name": "stdout",
     "output_type": "stream",
     "text": [
      "Common pets\n"
     ]
    }
   ],
   "source": [
    "animal = ['cat', 'dog', 'bird']\n",
    "\n",
    "match animal:\n",
    "    case ['cat', 'dog', 'bird']:\n",
    "        print(\"Common pets\")\n",
    "    case _:\n",
    "        print(\"Other pets\")"
   ]
  },
  {
   "cell_type": "markdown",
   "metadata": {},
   "source": [
    "**Scenario 9:** You are working on a math puzzle app. The app should recognize a specific set of numbers.\n",
    "\n",
    "Task: If the numbers list contains [1, 2, 3, 4], print \"Sequential numbers\". Otherwise, print \"Different set\".\n"
   ]
  },
  {
   "cell_type": "code",
   "execution_count": 23,
   "metadata": {},
   "outputs": [
    {
     "name": "stdout",
     "output_type": "stream",
     "text": [
      "Sequential number\n"
     ]
    }
   ],
   "source": [
    "num = [1,2,3,4]\n",
    "\n",
    "match num:\n",
    "    case [1,2,3,4]:\n",
    "        print(\"Sequential number\")\n",
    "    case _:\n",
    "        print(\"Different set\")"
   ]
  },
  {
   "cell_type": "markdown",
   "metadata": {},
   "source": [
    "**Scenario 10:** In a puzzle game, you are trying to match nested lists to specific patterns.\n",
    "\n",
    "Task: If the list contains [[1, 2], [3, 4]], print \"Match found\". Otherwise, print \"No match\"."
   ]
  },
  {
   "cell_type": "code",
   "execution_count": 22,
   "metadata": {},
   "outputs": [
    {
     "name": "stdout",
     "output_type": "stream",
     "text": [
      "Match found\n"
     ]
    }
   ],
   "source": [
    "lis = [[1,2],[3,4]]\n",
    "\n",
    "match lis:\n",
    "    case [[1,2],[3,4]]:\n",
    "        print(\"Match found\")\n",
    "    case  _:\n",
    "        print(\"No match\")"
   ]
  },
  {
   "cell_type": "markdown",
   "metadata": {},
   "source": [
    "**Scenario 11:** You are writing a program that categorizes even and odd numbers.\n",
    "\n",
    "Task: Use a match-case with an if condition to print \"Even number\" if the number is even, and \"Odd number\" if it's odd."
   ]
  },
  {
   "cell_type": "code",
   "execution_count": 21,
   "metadata": {},
   "outputs": [
    {
     "name": "stdout",
     "output_type": "stream",
     "text": [
      "Odd number\n"
     ]
    }
   ],
   "source": [
    "num = 7\n",
    "\n",
    "match num % 2:\n",
    "    case 0:\n",
    "        print(\"Even number\")\n",
    "    case 1:\n",
    "        print(\"Odd number\")"
   ]
  },
  {
   "cell_type": "markdown",
   "metadata": {},
   "source": [
    "**Scenario 12:** In a list management app, you need to check if a list has more than 3 elements.\n",
    "\n",
    "Task: If the list has more than 3 items, print \"Long list\". Otherwise, print \"Short list\"."
   ]
  },
  {
   "cell_type": "code",
   "execution_count": 20,
   "metadata": {},
   "outputs": [
    {
     "name": "stdout",
     "output_type": "stream",
     "text": [
      "Long list\n"
     ]
    }
   ],
   "source": [
    "num = [1,2,3,4]\n",
    "\n",
    "match len(num) >= 3:\n",
    "    case True:\n",
    "        print(\"Long list\")\n",
    "    case False:\n",
    "        print(\"Short list\")"
   ]
  },
  {
   "cell_type": "markdown",
   "metadata": {},
   "source": [
    "**Scenario 13:** You are designing a name validator that checks if a name starts with a specific letter.\n",
    "\n",
    "Task: If the name starts with 'A', print \"Name starts with A\". Otherwise, print \"Different name\"."
   ]
  },
  {
   "cell_type": "code",
   "execution_count": 19,
   "metadata": {},
   "outputs": [
    {
     "name": "stdout",
     "output_type": "stream",
     "text": [
      "Name starts with A\n"
     ]
    }
   ],
   "source": [
    "name = \"Amanai\"\n",
    "\n",
    "match name[0].upper():\n",
    "    case \"A\":\n",
    "        print(\"Name starts with A\")\n",
    "    case _:\n",
    "        print(\"Different name\")"
   ]
  },
  {
   "cell_type": "markdown",
   "metadata": {},
   "source": [
    "**Scenario 14:** You are working on a financial application that checks large numbers.\n",
    "\n",
    "Task: If the number is greater than 100, print \"High value\". Otherwise, print \"Normal value\"."
   ]
  },
  {
   "cell_type": "code",
   "execution_count": 18,
   "metadata": {},
   "outputs": [
    {
     "name": "stdout",
     "output_type": "stream",
     "text": [
      "High value\n"
     ]
    }
   ],
   "source": [
    "num = 200\n",
    "\n",
    "match num >= 100:\n",
    "    case True:\n",
    "        print(\"High value\")\n",
    "    case False:\n",
    "        print(\"Normal value\")"
   ]
  },
  {
   "cell_type": "markdown",
   "metadata": {},
   "source": [
    "**Scenario 15:** You are writing a program to check if a year is a leap year.\n",
    "\n",
    "Task: If the year is divisible by 4, print \"Leap year\". Otherwise, print \"Not a leap year\"."
   ]
  },
  {
   "cell_type": "code",
   "execution_count": 17,
   "metadata": {},
   "outputs": [
    {
     "name": "stdout",
     "output_type": "stream",
     "text": [
      "Leap year\n"
     ]
    }
   ],
   "source": [
    "year = 2002\n",
    "\n",
    "match year %  4 == 0:\n",
    "    case 0:\n",
    "        print(\"Leap year\")\n",
    "    case  _:\n",
    "        print(\"Not a leap year\")"
   ]
  },
  {
   "cell_type": "markdown",
   "metadata": {},
   "source": [
    "\n",
    "### <p style=\"text-align:center;\">*“The most dangerous phrase in the language is, ‘We’ve always done it this way.”* – Grace Hopper, computer pioneer and naval officer</p>"
   ]
  }
 ],
 "metadata": {
  "kernelspec": {
   "display_name": "Python 3",
   "language": "python",
   "name": "python3"
  },
  "language_info": {
   "codemirror_mode": {
    "name": "ipython",
    "version": 3
   },
   "file_extension": ".py",
   "mimetype": "text/x-python",
   "name": "python",
   "nbconvert_exporter": "python",
   "pygments_lexer": "ipython3",
   "version": "3.12.6"
  }
 },
 "nbformat": 4,
 "nbformat_minor": 2
}
