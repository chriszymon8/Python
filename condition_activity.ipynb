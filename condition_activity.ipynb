{
 "cells": [
  {
   "cell_type": "markdown",
   "metadata": {},
   "source": [
    "# <p style=\"text-align:center;\">Computer Programming 1</p>\n",
    "## <p style=\"text-align:center;\">**Activity 1:** Conditional Statements in Python</p>\n",
    "\n",
    "\n",
    "Submitted by: Chris Zymon P. Biado\n",
    "\n",
    "Student ID: A24-38490\n",
    "\n",
    "Section: M009\n",
    "\n",
    "Date of Submission: September 25, 2024\n",
    "\n",
    "Submitted to: `James Grimaldo` \n",
    "***"
   ]
  },
  {
   "cell_type": "markdown",
   "metadata": {},
   "source": [
    "Problem 1: Simple If Statement\n",
    "\n",
    "Write a program that checks if a number is positive. If so, print \"Positive\"."
   ]
  },
  {
   "cell_type": "code",
   "execution_count": 4,
   "metadata": {},
   "outputs": [
    {
     "name": "stdout",
     "output_type": "stream",
     "text": [
      "Positive number\n"
     ]
    }
   ],
   "source": [
    "num = 5\n",
    "\n",
    "if num > 0:\n",
    "    print(\"Positive number\")"
   ]
  },
  {
   "cell_type": "markdown",
   "metadata": {},
   "source": [
    "Problem 2: Simple If-Else Statement\n",
    "\n",
    "Write a program that checks if a number "
   ]
  },
  {
   "cell_type": "code",
   "execution_count": 60,
   "metadata": {},
   "outputs": [
    {
     "name": "stdout",
     "output_type": "stream",
     "text": [
      "This is not a number\n"
     ]
    }
   ],
   "source": [
    "num = input(\"Enter number\")\n",
    "\n",
    "if num.isdigit():\n",
    "    print(\"Positive number\")\n",
    "else:\n",
    "    print(\"This is not a number\")"
   ]
  },
  {
   "cell_type": "markdown",
   "metadata": {},
   "source": [
    "Problem 3: If-Elif-Else Statement\n",
    "\n",
    "Write a program to determine if a number is positive, negative, or zero."
   ]
  },
  {
   "cell_type": "code",
   "execution_count": 5,
   "metadata": {},
   "outputs": [
    {
     "name": "stdout",
     "output_type": "stream",
     "text": [
      "Negative a number\n"
     ]
    }
   ],
   "source": [
    "num = -5\n",
    "\n",
    "if num > 0:\n",
    "    print(\"Positive number\")\n",
    "elif num < 0:\n",
    "    print(\"Negative a number\")\n",
    "else:\n",
    "    print(\"This is not a 0\")"
   ]
  },
  {
   "cell_type": "markdown",
   "metadata": {},
   "source": [
    "Problem 4: Nested If Statements\n",
    "\n",
    "Write a program that checks if a number is positive. If positive, check if it's greater than 100."
   ]
  },
  {
   "cell_type": "code",
   "execution_count": 6,
   "metadata": {},
   "outputs": [
    {
     "name": "stdout",
     "output_type": "stream",
     "text": [
      "Negative a number\n"
     ]
    }
   ],
   "source": [
    "num = -1\n",
    "\n",
    "if num > 0:\n",
    "    if num > 100:\n",
    "        print(\"Positive number and greather than 100\")\n",
    "    else:\n",
    "        print(\"Positive number is not greather than 100\")\n",
    "elif num < 0:\n",
    "    print(\"Negative a number\")\n",
    "else:\n",
    "    print(\"This is not a 0\")"
   ]
  },
  {
   "cell_type": "markdown",
   "metadata": {},
   "source": [
    "Problem 5: Simple If Statement\n",
    "\n",
    "Write a program that checks if a string starts with the letter 'A'. If so, print \"Starts with A\"."
   ]
  },
  {
   "cell_type": "code",
   "execution_count": 11,
   "metadata": {},
   "outputs": [
    {
     "name": "stdout",
     "output_type": "stream",
     "text": [
      "Starts with A\n"
     ]
    }
   ],
   "source": [
    "letter = 'Aming'\n",
    "\n",
    "if letter.startswith(\"A\"):\n",
    "    print(\"Starts with A\")"
   ]
  },
  {
   "cell_type": "markdown",
   "metadata": {},
   "source": [
    "Problem 6: If-Else with String\n",
    "\n",
    "Write a program that checks if a string has more than 5 characters."
   ]
  },
  {
   "cell_type": "code",
   "execution_count": 9,
   "metadata": {},
   "outputs": [
    {
     "name": "stdout",
     "output_type": "stream",
     "text": [
      "There are more than 5 characters\n"
     ]
    }
   ],
   "source": [
    "char = \"Layla\", \"Brody\",  \"Beatrix\", \"Miya\", \"Ixia\", \n",
    "\n",
    "if len(char) >= 5:\n",
    "    print(\"There are more than 5 characters\")\n",
    "else:\n",
    "    print(\"There are less than 5 characters\")"
   ]
  },
  {
   "cell_type": "markdown",
   "metadata": {},
   "source": [
    "Problem 7: If-Elif-Else with Grading System\n",
    "\n",
    "Write a program that gives letter grades based on a score."
   ]
  },
  {
   "cell_type": "code",
   "execution_count": 38,
   "metadata": {},
   "outputs": [
    {
     "name": "stdout",
     "output_type": "stream",
     "text": [
      "Grade A\n"
     ]
    }
   ],
   "source": [
    "grades = int(input(\"Enter your grades\"))\n",
    "\n",
    "if grades >= 90:\n",
    "    print(\"Grade A\")\n",
    "elif grades >= 85:\n",
    "    print (\"Grade B\")\n",
    "elif grades >=  80:\n",
    "    print(\"Grade C\")\n",
    "elif  grades >= 75:\n",
    "    print(\"Grade D\")\n",
    "else:\n",
    "    print(\"Your grade is below passing\")"
   ]
  },
  {
   "cell_type": "markdown",
   "metadata": {},
   "source": [
    "Problem 8: Nested If with User Input\n",
    "\n",
    "Write a program that asks for age and checks if the person is eligible to vote (age >= 18)."
   ]
  },
  {
   "cell_type": "code",
   "execution_count": 32,
   "metadata": {},
   "outputs": [
    {
     "name": "stdout",
     "output_type": "stream",
     "text": [
      "Your not eligible to vote\n"
     ]
    }
   ],
   "source": [
    "age = int(input(\"Enter age: \"))\n",
    "\n",
    "if age:\n",
    "    if age >= 18:\n",
    "        print(\"Your eligible to vote\")\n",
    "    else:\n",
    "        print(\"Your not eligible to vote\")"
   ]
  },
  {
   "cell_type": "markdown",
   "metadata": {},
   "source": [
    "Problem 9: Simple If with Modulus\n",
    "\n",
    "Write a program that checks if a number is divisible by 5."
   ]
  },
  {
   "cell_type": "code",
   "execution_count": 34,
   "metadata": {},
   "outputs": [
    {
     "name": "stdout",
     "output_type": "stream",
     "text": [
      "Your number is divisible by 5\n"
     ]
    }
   ],
   "source": [
    "age = 20\n",
    "\n",
    "if age % 5 == 0:\n",
    "    print(\"Your number is divisible by 5\")"
   ]
  },
  {
   "cell_type": "markdown",
   "metadata": {},
   "source": [
    "Problem 10: If-Else with Voting Age\n",
    "\n",
    "Write a program that checks if someone is of voting age or not."
   ]
  },
  {
   "cell_type": "code",
   "execution_count": 28,
   "metadata": {},
   "outputs": [
    {
     "name": "stdout",
     "output_type": "stream",
     "text": [
      "Your eligible to vote\n"
     ]
    }
   ],
   "source": [
    "age = 18\n",
    "\n",
    "if age >= 18:\n",
    "    print(\"Your eligible to vote\")\n",
    "else:\n",
    "    print(\"You are not eligible to vote\")"
   ]
  },
  {
   "cell_type": "markdown",
   "metadata": {},
   "source": [
    "Problem 11: If-Elif-Else with Temperature\n",
    "\n",
    "Write a program that checks the temperature and prints the appropriate message."
   ]
  },
  {
   "cell_type": "code",
   "execution_count": 32,
   "metadata": {},
   "outputs": [
    {
     "name": "stdout",
     "output_type": "stream",
     "text": [
      "Your temperature is lower\n"
     ]
    }
   ],
   "source": [
    "temp = int(input(\"Enter Temperature: \"))\n",
    "\n",
    "if  temp == 37:\n",
    "    if temp < 37:\n",
    "        print(\"Your temperature is good\")\n",
    "    else:\n",
    "        print(\"Your temperature is lower\")\n",
    "\n",
    "else:\n",
    "    print(\"Your temperature is not 37\")"
   ]
  },
  {
   "cell_type": "markdown",
   "metadata": {},
   "source": [
    "Problem 12: Nested If with Even or Odd and Divisibility\n",
    "\n",
    "Write a program that checks if a number is even, and if even, checks if it's divisible by 4."
   ]
  },
  {
   "cell_type": "code",
   "execution_count": 22,
   "metadata": {},
   "outputs": [
    {
     "name": "stdout",
     "output_type": "stream",
     "text": [
      "The number is even\n",
      "The number is a divisible by 4\n"
     ]
    }
   ],
   "source": [
    "num = int(input(\"Eneter a number: \"))\n",
    "\n",
    "if  num % 2 == 0:\n",
    "    print(\"The number is even\")\n",
    "    if  num % 4 == 0:\n",
    "        print(\"The number is a divisible by 4\")\n",
    "    else:\n",
    "        print(\"The number is not divisible by 4\")\n",
    "else:\n",
    "    print(\"The number is odd\")\n"
   ]
  },
  {
   "cell_type": "markdown",
   "metadata": {},
   "source": [
    "Problem 13: Simple If with Boolean\n",
    "\n",
    "Write a program that checks if a user is logged in (boolean flag)."
   ]
  },
  {
   "cell_type": "code",
   "execution_count": 24,
   "metadata": {},
   "outputs": [
    {
     "name": "stdout",
     "output_type": "stream",
     "text": [
      "You are not logged in\n"
     ]
    }
   ],
   "source": [
    "is_logged_in = True\n",
    "\n",
    "if is_logged_in:\n",
    "    print(\"You are logged in\")"
   ]
  },
  {
   "cell_type": "markdown",
   "metadata": {},
   "source": [
    "Problem 14: If-Else with Age Range\n",
    "\n",
    "Write a program that checks if a person is a teenager (13-19 years old)."
   ]
  },
  {
   "cell_type": "code",
   "execution_count": 3,
   "metadata": {},
   "outputs": [
    {
     "name": "stdout",
     "output_type": "stream",
     "text": [
      "You are not a teenager\n"
     ]
    }
   ],
   "source": [
    "age = int(input(\"Enter age: \"))\n",
    "\n",
    "if age in range(13,  20):\n",
    "\n",
    "    print(\"You are a teenager\")\n",
    "else:\n",
    "    print(\"You are not a teenager\")"
   ]
  },
  {
   "cell_type": "markdown",
   "metadata": {},
   "source": [
    "Problem 15: If-Elif-Else with Exam Results\n",
    "\n",
    "Write a program that checks if a student passed or failed based on their score"
   ]
  },
  {
   "cell_type": "code",
   "execution_count": 11,
   "metadata": {},
   "outputs": [
    {
     "name": "stdout",
     "output_type": "stream",
     "text": [
      "The student passed.\n"
     ]
    }
   ],
   "source": [
    "score = 50\n",
    "\n",
    "if score >= 50:\n",
    "    print(\"The student passed.\")\n",
    "elif score >= 40:\n",
    "    print(\"The student is on the borderline.\")\n",
    "else:\n",
    "    print(\"The student failed.\")"
   ]
  },
  {
   "cell_type": "markdown",
   "metadata": {},
   "source": [
    "Problem 16: Nested If for Bank Account Balance\n",
    "\n",
    "Write a program that checks if an account has enough balance for a withdrawal."
   ]
  },
  {
   "cell_type": "code",
   "execution_count": null,
   "metadata": {},
   "outputs": [],
   "source": [
    "balance = float(input(\"Enter  the balance: \"))\n",
    "withdrawal =  float(input(\"Enter the withdrawal amount: \"))\n",
    "\n",
    "if balance > 0:\n",
    "    if balance  >= withdrawal:\n",
    "        print(\"Withdrawal  successful\")\n",
    "        balance  -= withdrawal\n",
    "        print(f\"Your  new balance is {balance:.2f}\")\n",
    "    else:\n",
    "        print(\"Insufficient  funds\")\n",
    "else:\n",
    "    print(\"Invalid  balance\")"
   ]
  },
  {
   "cell_type": "markdown",
   "metadata": {},
   "source": [
    "Problem 17: Simple If with List\n",
    "\n",
    "Write a program that checks if an item exists in a list."
   ]
  },
  {
   "cell_type": "code",
   "execution_count": 30,
   "metadata": {},
   "outputs": [
    {
     "name": "stdout",
     "output_type": "stream",
     "text": [
      "The fruit is in the list\n"
     ]
    }
   ],
   "source": [
    "listing = [\"apple\",  \"banana\", \"cherry\",  \"date\", \"elderberry\"]\n",
    "\n",
    "listing1 = \"apple\"\n",
    "if  listing1 in listing:\n",
    "    print(\"The fruit is in the list\")\n",
    "else:\n",
    "    print(\"The fruit is not in the list\")\n"
   ]
  },
  {
   "cell_type": "markdown",
   "metadata": {},
   "source": [
    "Problem 18: If-Else with List Length\n",
    "\n",
    "Write a program that checks if a list is empty."
   ]
  },
  {
   "cell_type": "code",
   "execution_count": 36,
   "metadata": {},
   "outputs": [
    {
     "name": "stdout",
     "output_type": "stream",
     "text": [
      "The list empty\n"
     ]
    }
   ],
   "source": [
    "length = []\n",
    "\n",
    "if not length:\n",
    "    print(\"The list empty\")\n",
    "else:\n",
    "    print(\"The list is not empty\")"
   ]
  },
  {
   "cell_type": "markdown",
   "metadata": {},
   "source": [
    "Problem 19: If-Elif-Else with BMI Calculation\n",
    "\n",
    "Write a program that calculates BMI and prints whether the person is underweight, normal, or overweight.\n",
    "\n",
    " formula for BMI is weight in kilograms (kg) divided by height in meters (m) squared. "
   ]
  },
  {
   "cell_type": "code",
   "execution_count": 3,
   "metadata": {},
   "outputs": [
    {
     "name": "stdout",
     "output_type": "stream",
     "text": [
      "Your BMI is 12.47, you are underweight.\n"
     ]
    }
   ],
   "source": [
    "weight = float(input(\"Enter  your weight in kg: \"))\n",
    "height = float(input(\"Enter your height in meters: \"))\n",
    "\n",
    "bmi = weight  / (height ** 2)\n",
    "\n",
    "if bmi  < 18.5:\n",
    "    print(f\"Your BMI is {bmi:.2f}, you are underweight.\")\n",
    "\n",
    "elif 18.5 <= bmi < 25:\n",
    "    print(f\"Your BMI is {bmi:.2f}, you are normal weight.\")\n",
    "\n",
    "else:\n",
    "    print(f\"Your  BMI is {bmi:.2f}, you are overweight.\")"
   ]
  },
  {
   "cell_type": "markdown",
   "metadata": {},
   "source": [
    "Problem 20: Nested If with Game Scoring\n",
    "\n",
    "Write a program that checks if a player's score is high enough to win. If so, check if they qualify for a bonus."
   ]
  },
  {
   "cell_type": "code",
   "execution_count": 38,
   "metadata": {},
   "outputs": [
    {
     "name": "stdout",
     "output_type": "stream",
     "text": [
      "You win! \n",
      "Your qualify for a bonus\n"
     ]
    }
   ],
   "source": [
    "player_score = int(input(\"Enter  your score: \"))\n",
    "\n",
    "winnig_score = 80\n",
    "bonus_score = 50\n",
    "\n",
    "if  player_score >= winnig_score:\n",
    "    print(\"You win! \")\n",
    "    if  player_score >= bonus_score:\n",
    "        print(\"Your qualify for a bonus\")\n",
    "    else:\n",
    "        print(\"You did not qualify for a bonus\")\n",
    "else:\n",
    "    print(\"You lose\")"
   ]
  },
  {
   "cell_type": "markdown",
   "metadata": {},
   "source": [
    "Problem 21: Simple If with Set\n",
    "\n",
    "Write a program that checks if a number is in a set."
   ]
  },
  {
   "cell_type": "code",
   "execution_count": 41,
   "metadata": {},
   "outputs": [
    {
     "name": "stdout",
     "output_type": "stream",
     "text": [
      "The number is not in the set\n"
     ]
    }
   ],
   "source": [
    "sets = {1, 2, 3, 4, 5}\n",
    "\n",
    "checking = 10\n",
    "if  checking in sets:\n",
    "    print (\"The number is in the set\")"
   ]
  },
  {
   "cell_type": "markdown",
   "metadata": {},
   "source": [
    "Problem 22: If-Else with Palindrome Check\n",
    "\n",
    "Write a program that checks if a word is a palindrome."
   ]
  },
  {
   "cell_type": "code",
   "execution_count": 42,
   "metadata": {},
   "outputs": [
    {
     "name": "stdout",
     "output_type": "stream",
     "text": [
      "\"radar\" is a palindrome\n"
     ]
    }
   ],
   "source": [
    "palindrome = \"radar\"\n",
    "\n",
    "if  palindrome == palindrome[::-1]:\n",
    "    print(f'\"{palindrome}\" is a palindrome')\n",
    "else:\n",
    "    print(f'\"{palindrome}\" is not a palindrome')\n"
   ]
  },
  {
   "cell_type": "markdown",
   "metadata": {},
   "source": [
    "Problem 23: If-Elif-Else with Age Category\n",
    "\n",
    "Write a program that categorizes a person based on their age (child, teenager, adult)."
   ]
  },
  {
   "cell_type": "code",
   "execution_count": 49,
   "metadata": {},
   "outputs": [
    {
     "name": "stdout",
     "output_type": "stream",
     "text": [
      "You are a child\n"
     ]
    }
   ],
   "source": [
    "age = int(input(\"What is your age?: \"))\n",
    "\n",
    "if 5 <= age <= 12:\n",
    "    print(\"You are a child\")\n",
    "elif 13 <= age <= 19:\n",
    "    print(\"You are a teenager\")\n",
    "else:\n",
    "    print(\"You are an adult\")\n"
   ]
  },
  {
   "cell_type": "markdown",
   "metadata": {},
   "source": [
    "Problem 24: Nested If for Discount Eligibility\n",
    "\n",
    "Write a program that checks if a customer is eligible for a discount based on their membership level."
   ]
  },
  {
   "cell_type": "code",
   "execution_count": 1,
   "metadata": {},
   "outputs": [
    {
     "name": "stdout",
     "output_type": "stream",
     "text": [
      "You are a gold member\n"
     ]
    }
   ],
   "source": [
    "membership = \"gold\"\n",
    "\n",
    "if membership in  [\"gold\", \"silver\", \"bronze\"]:\n",
    "    if  membership == \"gold\":\n",
    "        print(\"You are a gold member\")\n",
    "    elif  membership == \"silver\":\n",
    "        print(\"You are a silver member\")\n",
    "    elif   membership == \"bronze\":\n",
    "        print(\"You are a bronze member\")\n",
    "else:\n",
    "    print(\"You are not a member\")"
   ]
  },
  {
   "cell_type": "markdown",
   "metadata": {},
   "source": [
    "Problem 25: Simple If with Tuple\n",
    "\n",
    "Write a program that checks if an element exists in a tuple."
   ]
  },
  {
   "cell_type": "code",
   "execution_count": 51,
   "metadata": {},
   "outputs": [
    {
     "name": "stdout",
     "output_type": "stream",
     "text": [
      "The value is present in the tuple\n"
     ]
    }
   ],
   "source": [
    "tuples = (10,  20, 30, 40, 50)\n",
    "check = 30\n",
    "\n",
    "if  check in tuples:\n",
    "    print(\"The value is present in the tuple\")\n",
    "else:\n",
    "    print(\"The value is not present in the tuple\")\n"
   ]
  },
  {
   "cell_type": "markdown",
   "metadata": {},
   "source": [
    "Problem 26: If-Else with User Input\n",
    "\n",
    "Write a program that asks for the user's age and checks if they are an adult."
   ]
  },
  {
   "cell_type": "code",
   "execution_count": 3,
   "metadata": {},
   "outputs": [
    {
     "name": "stdout",
     "output_type": "stream",
     "text": [
      "You are an adult\n"
     ]
    }
   ],
   "source": [
    "age = int(input(\"Enter your age: \"))\n",
    "\n",
    "if age  >= 18:\n",
    "    print(\"You are an adult\")\n",
    "else:\n",
    "    print(\"Your are not adult\")"
   ]
  },
  {
   "cell_type": "markdown",
   "metadata": {},
   "source": [
    "Problem 27: If-Elif-Else with Day of the Week\n",
    "\n",
    "Write a program that prints whether it's a weekday or weekend based on the day of the week."
   ]
  },
  {
   "cell_type": "code",
   "execution_count": 1,
   "metadata": {},
   "outputs": [
    {
     "name": "stdout",
     "output_type": "stream",
     "text": [
      "The day is a weekday\n"
     ]
    }
   ],
   "source": [
    "day = input(\"Enter  the day of the week: \").lower()\n",
    "\n",
    "if day in [\"monday\",  \"tuesday\", \"wednesday\", \"thursday\", \"friday\"]:\n",
    "    print(\"The day is a weekday\")\n",
    "elif  day in [\"saturday\", \"sunday\"]:\n",
    "    print(\"The day is a weekend\")\n",
    "else:\n",
    "    print(\"Invalid day\")"
   ]
  },
  {
   "cell_type": "markdown",
   "metadata": {},
   "source": [
    "Problem 28: Nested If with Year and Leap Year Check\n",
    "\n",
    "Write a program that checks if a year is a leap year."
   ]
  },
  {
   "cell_type": "code",
   "execution_count": 53,
   "metadata": {},
   "outputs": [
    {
     "name": "stdout",
     "output_type": "stream",
     "text": [
      "2016 is a leap year\n"
     ]
    }
   ],
   "source": [
    "year = int(input(\"Enter a year: \"))\n",
    "\n",
    "if  year % 4 == 0:\n",
    "    if year % 100 == 0:\n",
    "        if year % 400 == 0:\n",
    "            print(f\"{year} is a leap year\")\n",
    "        else:\n",
    "            print(f\"{year} is not a leap year\")\n",
    "    else:\n",
    "        print(f\"{year} is a leap year\")\n",
    "else:\n",
    "    print(f\"{year} is not a leap year\")\n"
   ]
  },
  {
   "cell_type": "markdown",
   "metadata": {},
   "source": [
    "Problem 29: Simple If with Float Comparison\n",
    "\n",
    "Write a program that checks if a floating-point number is greater than 0.5."
   ]
  },
  {
   "cell_type": "code",
   "execution_count": 24,
   "metadata": {},
   "outputs": [
    {
     "name": "stdout",
     "output_type": "stream",
     "text": [
      "The number is greater than or equal to 0.5\n"
     ]
    }
   ],
   "source": [
    "num = 0.5\n",
    "\n",
    "if  num >= 0.5:\n",
    "    print(\"The number is greater than or equal to 0.5\")"
   ]
  },
  {
   "cell_type": "markdown",
   "metadata": {},
   "source": [
    "Problem 30: If-Else with Weather Condition\n",
    "\n",
    "Write a program that checks the weather condition and prints whether it's raining or not."
   ]
  },
  {
   "cell_type": "code",
   "execution_count": null,
   "metadata": {},
   "outputs": [],
   "source": [
    "wheather = input(\"It is raining? (yes/no): \").lower()\n",
    "\n",
    "if wheather  == \"yes\":\n",
    "    print(\"It is raining.\")\n",
    "else:\n",
    "    print(\"It is not raining.\")"
   ]
  },
  {
   "cell_type": "markdown",
   "metadata": {},
   "source": [
    "Problem 31: If-Elif-Else with Quiz Results\n",
    "\n",
    "Write a program that checks a quiz score and prints if the user passed or failed."
   ]
  },
  {
   "cell_type": "code",
   "execution_count": 58,
   "metadata": {},
   "outputs": [
    {
     "name": "stdout",
     "output_type": "stream",
     "text": [
      "You passed the quiz\n"
     ]
    }
   ],
   "source": [
    "score = int(input(\"Enter your quiz  score: \"))\n",
    "\n",
    "if  score == 50:\n",
    "    print(\"You passed the quiz\")\n",
    "elif score >= 40:\n",
    "    print(\"You passed the quiz but with a low grade\")\n",
    "else:\n",
    "    print(\"You failed the quiz\")"
   ]
  },
  {
   "cell_type": "markdown",
   "metadata": {},
   "source": [
    "Problem 32: Nested If with Access Control\n",
    "\n",
    "Write a program that checks if a user has access to a system. If yes, check if they are an admin."
   ]
  },
  {
   "cell_type": "code",
   "execution_count": 4,
   "metadata": {},
   "outputs": [
    {
     "name": "stdout",
     "output_type": "stream",
     "text": [
      "Welcome user\n"
     ]
    }
   ],
   "source": [
    "acess = input(\"Do you acess to the system ? (yes/no): \").lower()\n",
    "role = \"\"\n",
    "\n",
    "if acess == \"yes\":\n",
    "    role = input(\"You  are admin?  (yes/no): \").lower()\n",
    "    if role == \"yes\":\n",
    "        print(\"Welcome admin\")\n",
    "    else:\n",
    "        print(\"Welcome user\")\n",
    "else:\n",
    "    print(\"Access denied\")"
   ]
  },
  {
   "cell_type": "markdown",
   "metadata": {},
   "source": [
    "Problem 33: Simple If with Dictionary Key\n",
    "\n",
    "Write a program that checks if a specific key exists in a dictionary."
   ]
  },
  {
   "cell_type": "code",
   "execution_count": 7,
   "metadata": {},
   "outputs": [
    {
     "name": "stdout",
     "output_type": "stream",
     "text": [
      "The key does not exist in the dictionary\n"
     ]
    }
   ],
   "source": [
    "dicty = {\n",
    "    \"name\":  \"John\",\n",
    "    \"age\":  30,\n",
    "    \"city\":  \"New York\",\n",
    "}\n",
    "\n",
    "check = input(\"Enter to  check the dictionary: \")\n",
    "\n",
    "if check in dicty:\n",
    "    print(\"The key exists in the dictionary\")\n",
    "else:\n",
    "    print(\"The key does not exist in the dictionary\")\n"
   ]
  },
  {
   "cell_type": "markdown",
   "metadata": {},
   "source": [
    "Problem 34: If-Else with Temperature in Celsius\n",
    "\n",
    "Write a program that checks if the temperature is above or below freezing (0°C)."
   ]
  },
  {
   "cell_type": "code",
   "execution_count": 59,
   "metadata": {},
   "outputs": [
    {
     "name": "stdout",
     "output_type": "stream",
     "text": [
      "It's freezing outside!\n"
     ]
    }
   ],
   "source": [
    "temperature = float(input(\"Ener your  temperature in Celsius: \"))\n",
    "\n",
    "if  temperature < 0:\n",
    "    print(\"It's freezing outside!\")\n",
    "else:\n",
    "    print(\"It's not that cold outside.\")"
   ]
  },
  {
   "cell_type": "markdown",
   "metadata": {},
   "source": [
    "Problem 35: If-Elif-Else with Movie Rating\n",
    "\n",
    "Write a program that checks a movie rating and prints whether it's suitable for children, teenagers, or adults."
   ]
  },
  {
   "cell_type": "code",
   "execution_count": 1,
   "metadata": {},
   "outputs": [
    {
     "name": "stdout",
     "output_type": "stream",
     "text": [
      "Suitable for children.\n"
     ]
    }
   ],
   "source": [
    "rating = input(\"Enter the movie rating (G, PG, SPG, R): \").upper()\n",
    "\n",
    "if rating == \"G\":\n",
    "    print(\"Suitable for children.\")\n",
    "elif rating == \"PG\":\n",
    "    print(\"Parental guidance is advised. Suitable for older children and teenagers.\")\n",
    "elif rating == \"SPG\":\n",
    "    print(\"Strict Parental Guidance. Suitable for teenagers with parental supervision.\")\n",
    "elif rating == \"R\":\n",
    "    print(\"Restricted. Suitable for adults only.\")\n",
    "else:\n",
    "    print(\"Invalid rating.\")"
   ]
  },
  {
   "cell_type": "markdown",
   "metadata": {},
   "source": [
    "Problem 36: Simple If with Boolean Expression\n",
    "\n",
    "Write a program that checks if a boolean expression is True."
   ]
  },
  {
   "cell_type": "code",
   "execution_count": 2,
   "metadata": {},
   "outputs": [
    {
     "name": "stdout",
     "output_type": "stream",
     "text": [
      "The boolean expression is False\n"
     ]
    }
   ],
   "source": [
    "boolean_expression = input(\"Enter a boolead expression (True/False): \").strip()\n",
    "\n",
    "if  boolean_expression.lower() == \"true\":\n",
    "    is_true =  True\n",
    "    print(\"The  boolean expression is True\")\n",
    "elif  boolean_expression.lower() == \"false\":\n",
    "    is_true = False\n",
    "    print(\"The boolean expression is False\")\n",
    "else:\n",
    "    print(\"Invalid input\")\n",
    "    exit()"
   ]
  },
  {
   "cell_type": "markdown",
   "metadata": {},
   "source": [
    "Problem 37: If-Else with Divisibility Check\n",
    "\n",
    "Write a program that checks if a number is divisible by both 2 and 3."
   ]
  },
  {
   "cell_type": "code",
   "execution_count": 3,
   "metadata": {},
   "outputs": [
    {
     "name": "stdout",
     "output_type": "stream",
     "text": [
      "The number is not divisible by both 2 and 3\n"
     ]
    }
   ],
   "source": [
    "num = int(input(\"Enter a number: \"))\n",
    "\n",
    "if num % 2 == 0 and num % 3 == 0:\n",
    "    print(\"The number is divisible by both 2 and 3\")\n",
    "else:\n",
    "    print(\"The number is not divisible by both 2 and 3\")"
   ]
  },
  {
   "cell_type": "markdown",
   "metadata": {},
   "source": [
    "Problem 38: If-Elif-Else with Time of Day\n",
    "\n",
    "Write a program that prints whether it's morning, afternoon, or evening based on the time of day."
   ]
  },
  {
   "cell_type": "code",
   "execution_count": null,
   "metadata": {},
   "outputs": [],
   "source": [
    "time = int(input(\"Enter the hour of the day (0-23): \"))\n",
    "\n",
    "if 0 <= time < 12:\n",
    "    print(\"Good morning!\")\n",
    "elif  12 <= time < 18:\n",
    "    print(\"Good afternoon!\")\n",
    "elif  18 <= time < 24:\n",
    "    print(\"Good evening!\")\n",
    "else:\n",
    "    print(\"Invalid time\")"
   ]
  },
  {
   "cell_type": "markdown",
   "metadata": {},
   "source": [
    "Problem 39: Nested If with Loan Approval\n",
    "\n",
    "Write a program that checks if a user qualifies for a loan based on their income. If they qualify, check their credit score."
   ]
  },
  {
   "cell_type": "code",
   "execution_count": 1,
   "metadata": {},
   "outputs": [
    {
     "name": "stdout",
     "output_type": "stream",
     "text": [
      "You are not eligible for a loan\n"
     ]
    }
   ],
   "source": [
    "income = float(input(\"Enter your annual  income: \"))\n",
    "\n",
    "if income >=  2000:\n",
    "    credit_score = int(input(\"Enter  your credit score: \"))\n",
    "    if credit_score >= 700:\n",
    "        print(\"You are eligible for a loan\")\n",
    "    elif  credit_score >= 600:\n",
    "        print(\"You are eligible for a loan with a higher interest rate\")\n",
    "    else: \n",
    "        print(\"You are not eligible for a loan\")\n",
    "else:\n",
    "    print(\"You are not eligible for a loan\")"
   ]
  },
  {
   "cell_type": "markdown",
   "metadata": {},
   "source": [
    "Problem 40: Simple If with List Comparison\n",
    "\n",
    "Write a program that checks if two lists have the same length."
   ]
  },
  {
   "cell_type": "code",
   "execution_count": 3,
   "metadata": {},
   "outputs": [
    {
     "name": "stdout",
     "output_type": "stream",
     "text": [
      "Both lists have the same length\n"
     ]
    }
   ],
   "source": [
    "length1 = [1, 2, 3, 4, 5]\n",
    "length2 = [1, 2, 3,  4, 5]\n",
    "\n",
    "\n",
    "if len(length1) == len(length2):\n",
    "    print(\"Both lists have the same length\")\n"
   ]
  },
  {
   "cell_type": "markdown",
   "metadata": {},
   "source": [
    "\n",
    "## <p style=\"text-align:center;\">*\"If, at first, you do not succeed, call it version 1.0.\"* ― Khayri R.R. Woulfe</p>"
   ]
  }
 ],
 "metadata": {
  "kernelspec": {
   "display_name": "Python 3",
   "language": "python",
   "name": "python3"
  },
  "language_info": {
   "codemirror_mode": {
    "name": "ipython",
    "version": 3
   },
   "file_extension": ".py",
   "mimetype": "text/x-python",
   "name": "python",
   "nbconvert_exporter": "python",
   "pygments_lexer": "ipython3",
   "version": "3.12.6"
  }
 },
 "nbformat": 4,
 "nbformat_minor": 2
}
