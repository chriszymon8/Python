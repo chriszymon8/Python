{
 "cells": [
  {
   "cell_type": "markdown",
   "metadata": {},
   "source": [
    "Name: Chris Zymon P. Biado\n",
    "\n",
    "Section:M009"
   ]
  },
  {
   "cell_type": "markdown",
   "metadata": {},
   "source": [
    "1\n",
    "\n",
    "```\n",
    "*\n",
    "* *\n",
    "* * *\n",
    "* * * *\n",
    "```"
   ]
  },
  {
   "cell_type": "code",
   "execution_count": 37,
   "metadata": {},
   "outputs": [
    {
     "name": "stdout",
     "output_type": "stream",
     "text": [
      "\n",
      " * \n",
      " *  * \n",
      " *  *  * \n",
      " *  *  *  * \n",
      "\n"
     ]
    }
   ],
   "source": [
    "num = 4\n",
    "for num in range(num+1):\n",
    "    print(\" * \" * num)\n",
    "print()"
   ]
  },
  {
   "cell_type": "markdown",
   "metadata": {},
   "source": [
    "2\n",
    "```\n",
    "1\n",
    "0 1\n",
    "0 1 2\n",
    "0 1 2 3"
   ]
  },
  {
   "cell_type": "code",
   "execution_count": 20,
   "metadata": {},
   "outputs": [
    {
     "name": "stdout",
     "output_type": "stream",
     "text": [
      "0  \n",
      "0  1  \n",
      "0  1  2  \n",
      "0  1  2  3  \n"
     ]
    }
   ],
   "source": [
    "for row in range(4):\n",
    "    for col in range(row+1):\n",
    "        print(col, \" \", end=\"\")\n",
    "    print()"
   ]
  },
  {
   "cell_type": "markdown",
   "metadata": {},
   "source": [
    "3.\n",
    "```\n",
    "* * * * *\n",
    "* * * * \n",
    "* * * \n",
    "* * \n",
    "* \n",
    "```"
   ]
  },
  {
   "cell_type": "code",
   "execution_count": 35,
   "metadata": {},
   "outputs": [
    {
     "name": "stdout",
     "output_type": "stream",
     "text": [
      "*  *  *  *  *  \n",
      "*  *  *  *  \n",
      "*  *  *  \n",
      "*  *  \n",
      "*  \n"
     ]
    }
   ],
   "source": [
    "for num in range(4, -1, -1):\n",
    "    for col in range(num+1):\n",
    "        print(\"*\", \"\", end=\" \")\n",
    "    print()"
   ]
  },
  {
   "cell_type": "markdown",
   "metadata": {},
   "source": [
    "4\n",
    "```\n",
    "0 1 2 3 4 5\n",
    "0 1 2 3 4 \n",
    "0 1 2 3 \n",
    "0 1 2 \n",
    "0 1 \n",
    "0 \n",
    "```"
   ]
  },
  {
   "cell_type": "code",
   "execution_count": 36,
   "metadata": {},
   "outputs": [
    {
     "name": "stdout",
     "output_type": "stream",
     "text": [
      "0  1  2  3  4  5  \n",
      "0  1  2  3  4  \n",
      "0  1  2  3  \n",
      "0  1  2  \n",
      "0  1  \n",
      "0  \n"
     ]
    }
   ],
   "source": [
    "for num in range(5, -1, -1):\n",
    "    for col in range(num+1):\n",
    "        print(col, \"\", end=\" \")\n",
    "    print()"
   ]
  }
 ],
 "metadata": {
  "kernelspec": {
   "display_name": "Python 3",
   "language": "python",
   "name": "python3"
  },
  "language_info": {
   "codemirror_mode": {
    "name": "ipython",
    "version": 3
   },
   "file_extension": ".py",
   "mimetype": "text/x-python",
   "name": "python",
   "nbconvert_exporter": "python",
   "pygments_lexer": "ipython3",
   "version": "3.10.9"
  }
 },
 "nbformat": 4,
 "nbformat_minor": 2
}
